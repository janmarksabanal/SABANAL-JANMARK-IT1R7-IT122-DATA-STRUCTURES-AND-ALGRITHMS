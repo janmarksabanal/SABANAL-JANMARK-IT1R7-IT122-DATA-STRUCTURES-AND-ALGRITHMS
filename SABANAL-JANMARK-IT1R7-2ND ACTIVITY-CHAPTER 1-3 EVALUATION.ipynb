{
 "cells": [
  {
   "cell_type": "code",
   "execution_count": 10,
   "id": "internal-virtue",
   "metadata": {},
   "outputs": [
    {
     "name": "stdout",
     "output_type": "stream",
     "text": [
      "Discuss your learnings on Chapter 1  time-frame 8:00 - 30:35. Minimum of 200 characters\n",
      "\n",
      "Chapter 1 learnings are the following\n",
      "\n",
      "In this chapter, I've learned so many things about data structure and algorithms. Just like what I've heard in the lesson that ALGORITHM is a sequence of computational steps that transform the input into the output so in other word, algorithms is a step by step process.\n",
      "To explain further, algorithm have some important categories such as search, sort, insert, update and delete. When we say search well ofcourse it is to search an item in a data structure. Sort is to sort items in a certain order. Insert is to insert item in a data structure. Update is to update an existing item from a data structure.\n",
      ". Lastly, Delete is ofcourse if you wanted to delete an existing item from a data structure. We must remember that not all procedures can be called an algorithm so we must ensure that it should have the characteristics of unambiguous, input, output, finiteness, feasibility, and independent.\n",
      "\n",
      "DATA STRUCTURE on the other hand is a way to store and organize data in order to facilitate access and modification. When we say data structure it has 2 foundation terms which are first, interface which represents the set of operations that a data structure supports and second, implementation which provides the internal representation of a data structures.\n",
      "Same with algorithm, data structure should also be identified within the characteristics of correctness, time complexity and space complexity. I've also learned about the basic terminologies which are data, data item, group items, elementary items, attribute and entity, entity, set, field, record and file.\n",
      "\n",
      "We should study or learn about data structure and algorithm because these two goes through solutions to standard problems in detail and gives us an insight into how efficient it is to use each one of them.\n",
      "They are both important because data structure and algorithms helps us in understanding the nature of the problem at a deeper level and thereby a better understanding of the world.\n"
     ]
    }
   ],
   "source": [
    "print(\"Discuss your learnings on Chapter 1  time-frame 8:00 - 30:35. Minimum of 200 characters\")\n",
    "print(\"\")\n",
    "print(\"Chapter 1 learnings are the following\")\n",
    "print(\"\")\n",
    "print(\"In this chapter, I've learned so many things about data structure and algorithms. Just like what I've heard in the lesson that ALGORITHM is a sequence of computational steps that transform the input into the output so in other word, algorithms is a step by step process.\")\n",
    "print(\"To explain further, algorithm have some important categories such as search, sort, insert, update and delete. When we say search well ofcourse it is to search an item in a data structure. Sort is to sort items in a certain order. Insert is to insert item in a data structure. Update is to update an existing item from a data structure.\")\n",
    "print(\". Lastly, Delete is ofcourse if you wanted to delete an existing item from a data structure. We must remember that not all procedures can be called an algorithm so we must ensure that it should have the characteristics of unambiguous, input, output, finiteness, feasibility, and independent.\")\n",
    "print(\"\")\n",
    "print(\"DATA STRUCTURE on the other hand is a way to store and organize data in order to facilitate access and modification. When we say data structure it has 2 foundation terms which are first, interface which represents the set of operations that a data structure supports and second, implementation which provides the internal representation of a data structures.\")\n",
    "print(\"Same with algorithm, data structure should also be identified within the characteristics of correctness, time complexity and space complexity. I've also learned about the basic terminologies which are data, data item, group items, elementary items, attribute and entity, entity, set, field, record and file.\")\n",
    "print(\"\")\n",
    "print(\"We should study or learn about data structure and algorithm because these two goes through solutions to standard problems in detail and gives us an insight into how efficient it is to use each one of them.\")\n",
    "print(\"They are both important because data structure and algorithms helps us in understanding the nature of the problem at a deeper level and thereby a better understanding of the world.\")"
   ]
  },
  {
   "cell_type": "code",
   "execution_count": 12,
   "id": "continuing-industry",
   "metadata": {},
   "outputs": [
    {
     "name": "stdout",
     "output_type": "stream",
     "text": [
      "Discuss your learnings on Chapter 1  time-frame 35:00 - end. Minimum of 200 characters\n",
      "\n",
      "Chapter 1 learnings are the following\n",
      "\n",
      "DATA STRUCTURE on the other hand is a way to store and organize data in order to facilitate access and modification. When we say data structure it has 2 foundation terms which are first, interface which represents the set of operations that a data structure supports and second, implementation which provides the internal representation of a data structures.\n",
      "Same with algorithm, data structure should also be identified within the characteristics of correctness, time complexity and space complexity. I've also learned about the basic terminologies which are data, data item, group items, elementary items, attribute and entity, entity, set, field, record and file.\n",
      "\n",
      "We should study or learn about data structure and algorithm because these two goes through solutions to standard problems in detail and gives us an insight into how efficient it is to use each one of them.\n",
      "They are both important because data structure and algorithms helps us in understanding the nature of the problem at a deeper level and thereby a better understanding of the world.\n"
     ]
    }
   ],
   "source": [
    "print(\"Discuss your learnings on Chapter 1  time-frame 35:00 - end. Minimum of 200 characters\")\n",
    "print(\"\")\n",
    "print(\"Chapter 1 learnings are the following\")\n",
    "print(\"\")\n",
    "print(\"DATA STRUCTURE on the other hand is a way to store and organize data in order to facilitate access and modification. When we say data structure it has 2 foundation terms which are first, interface which represents the set of operations that a data structure supports and second, implementation which provides the internal representation of a data structures.\")\n",
    "print(\"Same with algorithm, data structure should also be identified within the characteristics of correctness, time complexity and space complexity. I've also learned about the basic terminologies which are data, data item, group items, elementary items, attribute and entity, entity, set, field, record and file.\")\n",
    "print(\"\")\n",
    "print(\"We should study or learn about data structure and algorithm because these two goes through solutions to standard problems in detail and gives us an insight into how efficient it is to use each one of them.\")\n",
    "print(\"They are both important because data structure and algorithms helps us in understanding the nature of the problem at a deeper level and thereby a better understanding of the world.\")\n"
   ]
  },
  {
   "cell_type": "code",
   "execution_count": 21,
   "id": "beautiful-executive",
   "metadata": {},
   "outputs": [
    {
     "name": "stdout",
     "output_type": "stream",
     "text": [
      "Discuss your learnings on Chapter 2  time-frame 5:00 - 9:00. Minimum of 200 characters\n",
      "\n",
      "Chapter 2 learnings are the following\n",
      "\n",
      "In this video lesson for chapter 2, explains the two data types, basic operations, algorithm complexity, space complexity and time complexity.\n",
      "As what I’ve written in my insights about the first part of chapter 2 that data type is a way to classify various types of data and it has 2 types which are Built-in Data Type and Derived Data Type.\n",
      "When we say built-in data type, those are data types for which a language has built-in support and examples for that are Integers, Boolean, Floating and Character and Strings. Derived data type on the other hand, are those data types which are implementation independent as they can be implemented in one or the other way.\n",
      "This kind of data type is normally built by the combination of primary or built-in data types and associated operations on them, under of it are list, array, stack and queque. I’ve also learned about the basic operations of the data in the data structure which are Traversing, Searching, Insertion, Deletion, Sorting and Merging.\n",
      "In the video lesson, there are 3 types of complexity. Algorithm complexity gives the running time and/or the storage space required by the algorithm in terms of n as the size of input data. Space Complexity of an algorithm represents the amount of memory space required by the algorithm in its life cycle. Time complexity of an algorithm represents the amount of time required by the algorithm to run to completion.\n",
      "\n",
      "When we go back to the first chapter which talks about the introduction, data structure was defined as a way to store and organize data in order to facilitate access and modification. And I must say that Data structures make it easy for users to access and work with the data they need in appropriate ways because the concepts can be implemented in any programming language.\n",
      "All topics of this chapter will talk about the data, so when we say data, it defines a particular data with the following characteristics, it could be atomic or a single concept, traceable or able to mapped some data element, it could also be accurate and lastly clear and concise so that the data can be understandable. I’ve also learned about data object which represents an object having a data.\n",
      "We have data object so we also have data type, as what I’ve heard in the lesson it’s like a pathway or a way to classify various types of data such as integer, string. So basically data type means that the values can directly be assigned to the data type variables.\n"
     ]
    }
   ],
   "source": [
    "print(\"Discuss your learnings on Chapter 2  time-frame 5:00 - 9:00. Minimum of 200 characters\")\n",
    "print(\"\")\n",
    "print(\"Chapter 2 learnings are the following\")\n",
    "print(\"\")\n",
    "print(\"In this video lesson for chapter 2, explains the two data types, basic operations, algorithm complexity, space complexity and time complexity.\")\n",
    "print(\"As what I’ve written in my insights about the first part of chapter 2 that data type is a way to classify various types of data and it has 2 types which are Built-in Data Type and Derived Data Type.\")\n",
    "print(\"When we say built-in data type, those are data types for which a language has built-in support and examples for that are Integers, Boolean, Floating and Character and Strings. Derived data type on the other hand, are those data types which are implementation independent as they can be implemented in one or the other way.\")\n",
    "print(\"This kind of data type is normally built by the combination of primary or built-in data types and associated operations on them, under of it are list, array, stack and queque. I’ve also learned about the basic operations of the data in the data structure which are Traversing, Searching, Insertion, Deletion, Sorting and Merging.\")\n",
    "print(\"In the video lesson, there are 3 types of complexity. Algorithm complexity gives the running time and/or the storage space required by the algorithm in terms of n as the size of input data. Space Complexity of an algorithm represents the amount of memory space required by the algorithm in its life cycle. Time complexity of an algorithm represents the amount of time required by the algorithm to run to completion.\")\n",
    "print(\"\")\n",
    "print(\"When we go back to the first chapter which talks about the introduction, data structure was defined as a way to store and organize data in order to facilitate access and modification. And I must say that Data structures make it easy for users to access and work with the data they need in appropriate ways because the concepts can be implemented in any programming language.\")\n",
    "print(\"All topics of this chapter will talk about the data, so when we say data, it defines a particular data with the following characteristics, it could be atomic or a single concept, traceable or able to mapped some data element, it could also be accurate and lastly clear and concise so that the data can be understandable. I’ve also learned about data object which represents an object having a data.\")\n",
    "print(\"We have data object so we also have data type, as what I’ve heard in the lesson it’s like a pathway or a way to classify various types of data such as integer, string. So basically data type means that the values can directly be assigned to the data type variables.\")"
   ]
  },
  {
   "cell_type": "code",
   "execution_count": 25,
   "id": "ignored-oakland",
   "metadata": {},
   "outputs": [
    {
     "name": "stdout",
     "output_type": "stream",
     "text": [
      "Discuss your learnings on Chapter 3  time-frame 3:00 - 18:00. Minimum of 200 characters\n",
      "\n",
      "Chapter 3 learnings are the following\n",
      "\n",
      "In this chapter, the whole video lesson talks about Array, it’s definition, representation and it’s basic operation. I’ve learned that Array is a container which can hold a fix number of items and these items should be of the same type and Array was used in the data structures to implement algorithms.\n",
      "Arrays are important because they are among the oldest and most important data structures and are used by almost every program. I’ve also learned about some important terms for me to understand deeper the concept of Array and these are element and index. When we say element, it means that in each item stored in an array is called an element. Index on the other hand, specifies that each location of an element in an array has a numerical index.\n",
      "\n",
      "In the basic operation of Array, if you wanted to print all the array elements one by one, then it is Traverse Operation. If you wanted to add an element at the given index, then it is Insertion. If you wanted to delete an element at the given index, then it is Deletion Operation If you wanted search an element using the given index or by the value, then it is Search Operation.\n",
      "And lastly if you also wanted to update an element at the given index, then it is Update Operation. Along with the basic operations of Array, it also have Typecode which are the codes used to define the type of value the array will hold. In the video lesson there are 7 common typecodes which are b, B, c, i, I, f and d. The b represents signed integer of size 1 byte/td>, B represents unsigned integer of size 1 byte, the c represents character of size 1 byte,  the i  represents signed integer of size 2 bytes, the l represents unsigned integer of size 2 bytes, the f  represents floating point of size 4 bytes and the d presents floating point of size 8 bytes.\n",
      "We need Arrays because arrays are best for storing multiple values in a single variable and they are better at processing many values easily and quickly that’s why it is very useful in every program.\n"
     ]
    }
   ],
   "source": [
    "print(\"Discuss your learnings on Chapter 3  time-frame 3:00 - 18:00. Minimum of 200 characters\")\n",
    "print(\"\")\n",
    "print(\"Chapter 3 learnings are the following\")\n",
    "print(\"\")\n",
    "print(\"In this chapter, the whole video lesson talks about Array, it’s definition, representation and it’s basic operation. I’ve learned that Array is a container which can hold a fix number of items and these items should be of the same type and Array was used in the data structures to implement algorithms.\")\n",
    "print(\"Arrays are important because they are among the oldest and most important data structures and are used by almost every program. I’ve also learned about some important terms for me to understand deeper the concept of Array and these are element and index. When we say element, it means that in each item stored in an array is called an element. Index on the other hand, specifies that each location of an element in an array has a numerical index.\")\n",
    "print(\"\")\n",
    "print(\"In the basic operation of Array, if you wanted to print all the array elements one by one, then it is Traverse Operation. If you wanted to add an element at the given index, then it is Insertion. If you wanted to delete an element at the given index, then it is Deletion Operation If you wanted search an element using the given index or by the value, then it is Search Operation.\")\n",
    "print(\"And lastly if you also wanted to update an element at the given index, then it is Update Operation. Along with the basic operations of Array, it also have Typecode which are the codes used to define the type of value the array will hold. In the video lesson there are 7 common typecodes which are b, B, c, i, I, f and d. The b represents signed integer of size 1 byte/td>, B represents unsigned integer of size 1 byte, the c represents character of size 1 byte,  the i  represents signed integer of size 2 bytes, the l represents unsigned integer of size 2 bytes, the f  represents floating point of size 4 bytes and the d presents floating point of size 8 bytes.\")\n",
    "print(\"We need Arrays because arrays are best for storing multiple values in a single variable and they are better at processing many values easily and quickly that’s why it is very useful in every program.\")"
   ]
  },
  {
   "cell_type": "code",
   "execution_count": 37,
   "id": "acoustic-teens",
   "metadata": {},
   "outputs": [
    {
     "name": "stdout",
     "output_type": "stream",
     "text": [
      "100\n",
      "100\n",
      "2000\n",
      "2020\n",
      "2020\n"
     ]
    }
   ],
   "source": [
    "from array import *\n",
    "arrayJanmark = array('I',[100,20,2020,2020,2020])\n",
    "arrayJanmark.insert(2,2000)\n",
    "arrayJanmark.remove(2020)\n",
    "arrayJanmark[1] = 100\n",
    "for x in arrayJanmark:\n",
    "    print(x)"
   ]
  },
  {
   "cell_type": "code",
   "execution_count": null,
   "id": "genetic-packing",
   "metadata": {},
   "outputs": [],
   "source": []
  }
 ],
 "metadata": {
  "kernelspec": {
   "display_name": "Python 3",
   "language": "python",
   "name": "python3"
  },
  "language_info": {
   "codemirror_mode": {
    "name": "ipython",
    "version": 3
   },
   "file_extension": ".py",
   "mimetype": "text/x-python",
   "name": "python",
   "nbconvert_exporter": "python",
   "pygments_lexer": "ipython3",
   "version": "3.9.2"
  }
 },
 "nbformat": 4,
 "nbformat_minor": 5
}
